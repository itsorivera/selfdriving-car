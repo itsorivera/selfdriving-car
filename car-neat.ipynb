{
 "cells": [
  {
   "cell_type": "code",
   "execution_count": 1,
   "metadata": {},
   "outputs": [
    {
     "name": "stdout",
     "output_type": "stream",
     "text": [
      "pygame 2.1.0 (SDL 2.0.16, Python 3.10.5)\n",
      "Hello from the pygame community. https://www.pygame.org/contribute.html\n"
     ]
    }
   ],
   "source": [
    "import os\n",
    "import random\n",
    "import sys\n",
    "import math\n",
    "\n",
    "import neat\n",
    "import pygame"
   ]
  },
  {
   "cell_type": "code",
   "execution_count": 2,
   "metadata": {},
   "outputs": [],
   "source": [
    "WIDTH = 1920\n",
    "HEIGTH = 1080\n",
    "\n",
    "CAR_SIZE_X = 60\n",
    "CAR_SIZE_Y = 60\n",
    "\n",
    "BORDER_COLOR = (255, 255, 255, 255)\n",
    "\n",
    "current_generation = 0"
   ]
  },
  {
   "cell_type": "code",
   "execution_count": 5,
   "metadata": {},
   "outputs": [],
   "source": [
    "class car:\n",
    "    def __init__(self):\n",
    "        # create sprite car and rotate\n",
    "        self.sprite = pygame.image.load('car.png').convert() #sprite is a 2D representation of something on screen\n",
    "        self.sprite = pygame.transform.scale(self.sprite, (CAR_SIZE_X, CAR_SIZE_Y))\n",
    "        self.rotated_sprite = self.sprite\n",
    "\n",
    "        # set initial position\n",
    "        self.position = [830, 920]\n",
    "        self.angle = 0\n",
    "        self.speed = 0\n",
    "        \n",
    "        self.radars = [] #empty list of radars\n",
    "        self.center = [   self.position[0] + CAR_SIZE_X/2, \n",
    "                            self.position[1] + CAR_SIZE_Y/2]\n",
    "\n",
    "        self.alive = False\n",
    "        self.distance = 0\n",
    "        self.time = 0\n",
    "    \n",
    "    def draw(self, screen):\n",
    "        screen.blit(self.rotated_sprite, self.position) \n",
    "        screen.draw_radar(screen)\n",
    "    \n",
    "    def draw_radar(self, screen):\n",
    "        for radar in self.radars:\n",
    "            position = radar[0]\n",
    "            pygame.draw.line(screen, (0,255,0), self.center, position, 1)\n",
    "            pygame.draw.circle(screen, (0,255,0), position, 1)\n",
    "    \n",
    "    def check_collision(self, game_map):\n",
    "        self.alive = True\n",
    "        for point in self.corners:\n",
    "            if game_map.get_at((int(point[0], int(point[1])))) == BORDER_COLOR:\n",
    "                self.alive = False\n",
    "                break\n"
   ]
  },
  {
   "cell_type": "code",
   "execution_count": null,
   "metadata": {},
   "outputs": [],
   "source": []
  }
 ],
 "metadata": {
  "kernelspec": {
   "display_name": "Python 3.10.5 64-bit",
   "language": "python",
   "name": "python3"
  },
  "language_info": {
   "codemirror_mode": {
    "name": "ipython",
    "version": 3
   },
   "file_extension": ".py",
   "mimetype": "text/x-python",
   "name": "python",
   "nbconvert_exporter": "python",
   "pygments_lexer": "ipython3",
   "version": "3.10.5"
  },
  "orig_nbformat": 4,
  "vscode": {
   "interpreter": {
    "hash": "300dbfc6b0ad0831e999f42922719e8c3270874e67c762ad6f8e521060e0a9f2"
   }
  }
 },
 "nbformat": 4,
 "nbformat_minor": 2
}
